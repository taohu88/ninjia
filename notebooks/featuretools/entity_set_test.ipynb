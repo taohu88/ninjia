{
 "cells": [
  {
   "cell_type": "code",
   "execution_count": 2,
   "metadata": {},
   "outputs": [],
   "source": [
    "import featuretools as ft"
   ]
  },
  {
   "cell_type": "code",
   "execution_count": 3,
   "metadata": {},
   "outputs": [],
   "source": [
    "data = ft.demo.load_mock_customer()"
   ]
  },
  {
   "cell_type": "code",
   "execution_count": 4,
   "metadata": {},
   "outputs": [
    {
     "data": {
      "text/html": [
       "<div>\n",
       "<style scoped>\n",
       "    .dataframe tbody tr th:only-of-type {\n",
       "        vertical-align: middle;\n",
       "    }\n",
       "\n",
       "    .dataframe tbody tr th {\n",
       "        vertical-align: top;\n",
       "    }\n",
       "\n",
       "    .dataframe thead th {\n",
       "        text-align: right;\n",
       "    }\n",
       "</style>\n",
       "<table border=\"1\" class=\"dataframe\">\n",
       "  <thead>\n",
       "    <tr style=\"text-align: right;\">\n",
       "      <th></th>\n",
       "      <th>transaction_id</th>\n",
       "      <th>session_id</th>\n",
       "      <th>transaction_time</th>\n",
       "      <th>product_id</th>\n",
       "      <th>amount</th>\n",
       "      <th>customer_id</th>\n",
       "      <th>device</th>\n",
       "      <th>session_start</th>\n",
       "      <th>zip_code</th>\n",
       "      <th>join_date</th>\n",
       "      <th>date_of_birth</th>\n",
       "    </tr>\n",
       "  </thead>\n",
       "  <tbody>\n",
       "    <tr>\n",
       "      <th>264</th>\n",
       "      <td>380</td>\n",
       "      <td>21</td>\n",
       "      <td>2014-01-01 05:14:10</td>\n",
       "      <td>5</td>\n",
       "      <td>57.09</td>\n",
       "      <td>4</td>\n",
       "      <td>desktop</td>\n",
       "      <td>2014-01-01 05:02:15</td>\n",
       "      <td>60091</td>\n",
       "      <td>2011-04-08 20:08:14</td>\n",
       "      <td>2006-08-15</td>\n",
       "    </tr>\n",
       "    <tr>\n",
       "      <th>19</th>\n",
       "      <td>244</td>\n",
       "      <td>10</td>\n",
       "      <td>2014-01-01 02:34:55</td>\n",
       "      <td>2</td>\n",
       "      <td>116.95</td>\n",
       "      <td>2</td>\n",
       "      <td>tablet</td>\n",
       "      <td>2014-01-01 02:31:40</td>\n",
       "      <td>13244</td>\n",
       "      <td>2012-04-15 23:31:04</td>\n",
       "      <td>1986-08-18</td>\n",
       "    </tr>\n",
       "    <tr>\n",
       "      <th>314</th>\n",
       "      <td>299</td>\n",
       "      <td>6</td>\n",
       "      <td>2014-01-01 01:32:05</td>\n",
       "      <td>4</td>\n",
       "      <td>64.99</td>\n",
       "      <td>1</td>\n",
       "      <td>tablet</td>\n",
       "      <td>2014-01-01 01:23:25</td>\n",
       "      <td>60091</td>\n",
       "      <td>2011-04-17 10:48:33</td>\n",
       "      <td>1994-07-18</td>\n",
       "    </tr>\n",
       "    <tr>\n",
       "      <th>290</th>\n",
       "      <td>78</td>\n",
       "      <td>4</td>\n",
       "      <td>2014-01-01 00:54:10</td>\n",
       "      <td>1</td>\n",
       "      <td>37.50</td>\n",
       "      <td>1</td>\n",
       "      <td>mobile</td>\n",
       "      <td>2014-01-01 00:44:25</td>\n",
       "      <td>60091</td>\n",
       "      <td>2011-04-17 10:48:33</td>\n",
       "      <td>1994-07-18</td>\n",
       "    </tr>\n",
       "    <tr>\n",
       "      <th>379</th>\n",
       "      <td>457</td>\n",
       "      <td>27</td>\n",
       "      <td>2014-01-01 06:37:35</td>\n",
       "      <td>1</td>\n",
       "      <td>19.16</td>\n",
       "      <td>1</td>\n",
       "      <td>mobile</td>\n",
       "      <td>2014-01-01 06:34:20</td>\n",
       "      <td>60091</td>\n",
       "      <td>2011-04-17 10:48:33</td>\n",
       "      <td>1994-07-18</td>\n",
       "    </tr>\n",
       "    <tr>\n",
       "      <th>335</th>\n",
       "      <td>477</td>\n",
       "      <td>9</td>\n",
       "      <td>2014-01-01 02:30:35</td>\n",
       "      <td>3</td>\n",
       "      <td>41.70</td>\n",
       "      <td>1</td>\n",
       "      <td>desktop</td>\n",
       "      <td>2014-01-01 02:15:25</td>\n",
       "      <td>60091</td>\n",
       "      <td>2011-04-17 10:48:33</td>\n",
       "      <td>1994-07-18</td>\n",
       "    </tr>\n",
       "    <tr>\n",
       "      <th>293</th>\n",
       "      <td>103</td>\n",
       "      <td>4</td>\n",
       "      <td>2014-01-01 00:57:25</td>\n",
       "      <td>5</td>\n",
       "      <td>20.79</td>\n",
       "      <td>1</td>\n",
       "      <td>mobile</td>\n",
       "      <td>2014-01-01 00:44:25</td>\n",
       "      <td>60091</td>\n",
       "      <td>2011-04-17 10:48:33</td>\n",
       "      <td>1994-07-18</td>\n",
       "    </tr>\n",
       "    <tr>\n",
       "      <th>271</th>\n",
       "      <td>390</td>\n",
       "      <td>22</td>\n",
       "      <td>2014-01-01 05:21:45</td>\n",
       "      <td>2</td>\n",
       "      <td>54.83</td>\n",
       "      <td>4</td>\n",
       "      <td>desktop</td>\n",
       "      <td>2014-01-01 05:21:45</td>\n",
       "      <td>60091</td>\n",
       "      <td>2011-04-08 20:08:14</td>\n",
       "      <td>2006-08-15</td>\n",
       "    </tr>\n",
       "    <tr>\n",
       "      <th>404</th>\n",
       "      <td>476</td>\n",
       "      <td>29</td>\n",
       "      <td>2014-01-01 07:24:10</td>\n",
       "      <td>4</td>\n",
       "      <td>121.59</td>\n",
       "      <td>1</td>\n",
       "      <td>mobile</td>\n",
       "      <td>2014-01-01 07:10:05</td>\n",
       "      <td>60091</td>\n",
       "      <td>2011-04-17 10:48:33</td>\n",
       "      <td>1994-07-18</td>\n",
       "    </tr>\n",
       "    <tr>\n",
       "      <th>179</th>\n",
       "      <td>90</td>\n",
       "      <td>3</td>\n",
       "      <td>2014-01-01 00:35:45</td>\n",
       "      <td>1</td>\n",
       "      <td>75.73</td>\n",
       "      <td>4</td>\n",
       "      <td>mobile</td>\n",
       "      <td>2014-01-01 00:28:10</td>\n",
       "      <td>60091</td>\n",
       "      <td>2011-04-08 20:08:14</td>\n",
       "      <td>2006-08-15</td>\n",
       "    </tr>\n",
       "  </tbody>\n",
       "</table>\n",
       "</div>"
      ],
      "text/plain": [
       "     transaction_id  session_id    transaction_time product_id  amount  \\\n",
       "264             380          21 2014-01-01 05:14:10          5   57.09   \n",
       "19              244          10 2014-01-01 02:34:55          2  116.95   \n",
       "314             299           6 2014-01-01 01:32:05          4   64.99   \n",
       "290              78           4 2014-01-01 00:54:10          1   37.50   \n",
       "379             457          27 2014-01-01 06:37:35          1   19.16   \n",
       "335             477           9 2014-01-01 02:30:35          3   41.70   \n",
       "293             103           4 2014-01-01 00:57:25          5   20.79   \n",
       "271             390          22 2014-01-01 05:21:45          2   54.83   \n",
       "404             476          29 2014-01-01 07:24:10          4  121.59   \n",
       "179              90           3 2014-01-01 00:35:45          1   75.73   \n",
       "\n",
       "     customer_id   device       session_start zip_code           join_date  \\\n",
       "264            4  desktop 2014-01-01 05:02:15    60091 2011-04-08 20:08:14   \n",
       "19             2   tablet 2014-01-01 02:31:40    13244 2012-04-15 23:31:04   \n",
       "314            1   tablet 2014-01-01 01:23:25    60091 2011-04-17 10:48:33   \n",
       "290            1   mobile 2014-01-01 00:44:25    60091 2011-04-17 10:48:33   \n",
       "379            1   mobile 2014-01-01 06:34:20    60091 2011-04-17 10:48:33   \n",
       "335            1  desktop 2014-01-01 02:15:25    60091 2011-04-17 10:48:33   \n",
       "293            1   mobile 2014-01-01 00:44:25    60091 2011-04-17 10:48:33   \n",
       "271            4  desktop 2014-01-01 05:21:45    60091 2011-04-08 20:08:14   \n",
       "404            1   mobile 2014-01-01 07:10:05    60091 2011-04-17 10:48:33   \n",
       "179            4   mobile 2014-01-01 00:28:10    60091 2011-04-08 20:08:14   \n",
       "\n",
       "    date_of_birth  \n",
       "264    2006-08-15  \n",
       "19     1986-08-18  \n",
       "314    1994-07-18  \n",
       "290    1994-07-18  \n",
       "379    1994-07-18  \n",
       "335    1994-07-18  \n",
       "293    1994-07-18  \n",
       "271    2006-08-15  \n",
       "404    1994-07-18  \n",
       "179    2006-08-15  "
      ]
     },
     "execution_count": 4,
     "metadata": {},
     "output_type": "execute_result"
    }
   ],
   "source": [
    "transactions_df = data[\"transactions\"].merge(data[\"sessions\"]).merge(data[\"customers\"])\n",
    "transactions_df.sample(10)"
   ]
  },
  {
   "cell_type": "code",
   "execution_count": 5,
   "metadata": {},
   "outputs": [
    {
     "data": {
      "text/html": [
       "<div>\n",
       "<style scoped>\n",
       "    .dataframe tbody tr th:only-of-type {\n",
       "        vertical-align: middle;\n",
       "    }\n",
       "\n",
       "    .dataframe tbody tr th {\n",
       "        vertical-align: top;\n",
       "    }\n",
       "\n",
       "    .dataframe thead th {\n",
       "        text-align: right;\n",
       "    }\n",
       "</style>\n",
       "<table border=\"1\" class=\"dataframe\">\n",
       "  <thead>\n",
       "    <tr style=\"text-align: right;\">\n",
       "      <th></th>\n",
       "      <th>product_id</th>\n",
       "      <th>brand</th>\n",
       "    </tr>\n",
       "  </thead>\n",
       "  <tbody>\n",
       "    <tr>\n",
       "      <th>0</th>\n",
       "      <td>1</td>\n",
       "      <td>B</td>\n",
       "    </tr>\n",
       "    <tr>\n",
       "      <th>1</th>\n",
       "      <td>2</td>\n",
       "      <td>B</td>\n",
       "    </tr>\n",
       "    <tr>\n",
       "      <th>2</th>\n",
       "      <td>3</td>\n",
       "      <td>B</td>\n",
       "    </tr>\n",
       "    <tr>\n",
       "      <th>3</th>\n",
       "      <td>4</td>\n",
       "      <td>B</td>\n",
       "    </tr>\n",
       "    <tr>\n",
       "      <th>4</th>\n",
       "      <td>5</td>\n",
       "      <td>A</td>\n",
       "    </tr>\n",
       "  </tbody>\n",
       "</table>\n",
       "</div>"
      ],
      "text/plain": [
       "  product_id brand\n",
       "0          1     B\n",
       "1          2     B\n",
       "2          3     B\n",
       "3          4     B\n",
       "4          5     A"
      ]
     },
     "execution_count": 5,
     "metadata": {},
     "output_type": "execute_result"
    }
   ],
   "source": [
    "products_df = data[\"products\"]\n",
    "products_df"
   ]
  },
  {
   "cell_type": "code",
   "execution_count": 6,
   "metadata": {},
   "outputs": [],
   "source": [
    "es = ft.EntitySet()"
   ]
  },
  {
   "cell_type": "code",
   "execution_count": 7,
   "metadata": {},
   "outputs": [],
   "source": [
    " es = es.entity_from_dataframe(entity_id=\"transactions\",\n",
    "                              dataframe=transactions_df,\n",
    "                              index=\"transaction_id\",\n",
    "                              time_index=\"transaction_time\",\n",
    "                              variable_types={\"product_id\": ft.variable_types.Categorical,\n",
    "                                              \"zip_code\": ft.variable_types.ZIPCode})"
   ]
  },
  {
   "cell_type": "code",
   "execution_count": 8,
   "metadata": {},
   "outputs": [
    {
     "data": {
      "text/plain": [
       "Entityset: None\n",
       "  Entities:\n",
       "    transactions [Rows: 500, Columns: 11]\n",
       "  Relationships:\n",
       "    No relationships"
      ]
     },
     "execution_count": 8,
     "metadata": {},
     "output_type": "execute_result"
    }
   ],
   "source": [
    "es"
   ]
  },
  {
   "cell_type": "code",
   "execution_count": 9,
   "metadata": {},
   "outputs": [
    {
     "data": {
      "text/plain": [
       "[<Variable: transaction_id (dtype = index)>,\n",
       " <Variable: session_id (dtype = numeric)>,\n",
       " <Variable: transaction_time (dtype: datetime_time_index, format: None)>,\n",
       " <Variable: amount (dtype = numeric)>,\n",
       " <Variable: customer_id (dtype = numeric)>,\n",
       " <Variable: device (dtype = categorical)>,\n",
       " <Variable: session_start (dtype: datetime, format: None)>,\n",
       " <Variable: join_date (dtype: datetime, format: None)>,\n",
       " <Variable: date_of_birth (dtype: datetime, format: None)>,\n",
       " <Variable: product_id (dtype = categorical)>,\n",
       " <Variable: zip_code (dtype = zipcode)>]"
      ]
     },
     "execution_count": 9,
     "metadata": {},
     "output_type": "execute_result"
    }
   ],
   "source": [
    "es[\"transactions\"].variables"
   ]
  },
  {
   "cell_type": "code",
   "execution_count": 10,
   "metadata": {},
   "outputs": [],
   "source": [
    "es = es.entity_from_dataframe(entity_id=\"products\",\n",
    "                             dataframe=products_df,\n",
    "                              index=\"product_id\")"
   ]
  },
  {
   "cell_type": "code",
   "execution_count": 11,
   "metadata": {},
   "outputs": [
    {
     "data": {
      "text/plain": [
       "Entityset: None\n",
       "  Entities:\n",
       "    transactions [Rows: 500, Columns: 11]\n",
       "    products [Rows: 5, Columns: 2]\n",
       "  Relationships:\n",
       "    No relationships"
      ]
     },
     "execution_count": 11,
     "metadata": {},
     "output_type": "execute_result"
    }
   ],
   "source": [
    "es"
   ]
  },
  {
   "cell_type": "code",
   "execution_count": 12,
   "metadata": {},
   "outputs": [],
   "source": [
    "new_relationship = ft.Relationship(es[\"products\"][\"product_id\"],\n",
    "                                  es[\"transactions\"][\"product_id\"])"
   ]
  },
  {
   "cell_type": "code",
   "execution_count": 13,
   "metadata": {},
   "outputs": [],
   "source": [
    "es = es.add_relationship(new_relationship)"
   ]
  },
  {
   "cell_type": "code",
   "execution_count": 14,
   "metadata": {},
   "outputs": [
    {
     "data": {
      "text/plain": [
       "Entityset: None\n",
       "  Entities:\n",
       "    transactions [Rows: 500, Columns: 11]\n",
       "    products [Rows: 5, Columns: 2]\n",
       "  Relationships:\n",
       "    transactions.product_id -> products.product_id"
      ]
     },
     "execution_count": 14,
     "metadata": {},
     "output_type": "execute_result"
    }
   ],
   "source": [
    "es"
   ]
  },
  {
   "cell_type": "code",
   "execution_count": 15,
   "metadata": {},
   "outputs": [],
   "source": [
    "es = es.normalize_entity(base_entity_id=\"transactions\",\n",
    "                         new_entity_id=\"sessions\",\n",
    "                         index=\"session_id\",\n",
    "                         make_time_index=\"session_start\",\n",
    "                         additional_variables=[\"device\", \"customer_id\", \"zip_code\", \"session_start\", \"join_date\"])"
   ]
  },
  {
   "cell_type": "code",
   "execution_count": 16,
   "metadata": {},
   "outputs": [
    {
     "data": {
      "text/plain": [
       "Entityset: None\n",
       "  Entities:\n",
       "    transactions [Rows: 500, Columns: 6]\n",
       "    products [Rows: 5, Columns: 2]\n",
       "    sessions [Rows: 35, Columns: 6]\n",
       "  Relationships:\n",
       "    transactions.product_id -> products.product_id\n",
       "    transactions.session_id -> sessions.session_id"
      ]
     },
     "execution_count": 16,
     "metadata": {},
     "output_type": "execute_result"
    }
   ],
   "source": [
    "es"
   ]
  },
  {
   "cell_type": "code",
   "execution_count": 17,
   "metadata": {},
   "outputs": [
    {
     "data": {
      "text/plain": [
       "Entity: sessions\n",
       "  Variables:\n",
       "    session_id (dtype: index)\n",
       "    device (dtype: categorical)\n",
       "    customer_id (dtype: numeric)\n",
       "    zip_code (dtype: zipcode)\n",
       "    session_start (dtype: datetime_time_index)\n",
       "    join_date (dtype: datetime)\n",
       "  Shape:\n",
       "    (Rows: 35, Columns: 6)"
      ]
     },
     "execution_count": 17,
     "metadata": {},
     "output_type": "execute_result"
    }
   ],
   "source": [
    "es[\"sessions\"]"
   ]
  },
  {
   "cell_type": "code",
   "execution_count": 19,
   "metadata": {},
   "outputs": [
    {
     "data": {
      "text/plain": [
       "[<Variable: session_id (dtype = index)>,\n",
       " <Variable: device (dtype = categorical)>,\n",
       " <Variable: customer_id (dtype = numeric)>,\n",
       " <Variable: zip_code (dtype = zipcode)>,\n",
       " <Variable: session_start (dtype: datetime_time_index, format: None)>,\n",
       " <Variable: join_date (dtype: datetime, format: None)>]"
      ]
     },
     "execution_count": 19,
     "metadata": {},
     "output_type": "execute_result"
    }
   ],
   "source": [
    "es[\"sessions\"].variables"
   ]
  },
  {
   "cell_type": "code",
   "execution_count": 18,
   "metadata": {},
   "outputs": [
    {
     "data": {
      "text/plain": [
       "[<Variable: transaction_id (dtype = index)>,\n",
       " <Variable: session_id (dtype = id)>,\n",
       " <Variable: transaction_time (dtype: datetime_time_index, format: None)>,\n",
       " <Variable: amount (dtype = numeric)>,\n",
       " <Variable: date_of_birth (dtype: datetime, format: None)>,\n",
       " <Variable: product_id (dtype = categorical)>]"
      ]
     },
     "execution_count": 18,
     "metadata": {},
     "output_type": "execute_result"
    }
   ],
   "source": [
    "es[\"transactions\"].variables"
   ]
  },
  {
   "cell_type": "code",
   "execution_count": 20,
   "metadata": {},
   "outputs": [
    {
     "data": {
      "text/html": [
       "<div>\n",
       "<style scoped>\n",
       "    .dataframe tbody tr th:only-of-type {\n",
       "        vertical-align: middle;\n",
       "    }\n",
       "\n",
       "    .dataframe tbody tr th {\n",
       "        vertical-align: top;\n",
       "    }\n",
       "\n",
       "    .dataframe thead th {\n",
       "        text-align: right;\n",
       "    }\n",
       "</style>\n",
       "<table border=\"1\" class=\"dataframe\">\n",
       "  <thead>\n",
       "    <tr style=\"text-align: right;\">\n",
       "      <th></th>\n",
       "      <th>transaction_id</th>\n",
       "      <th>session_id</th>\n",
       "      <th>transaction_time</th>\n",
       "      <th>amount</th>\n",
       "      <th>date_of_birth</th>\n",
       "      <th>product_id</th>\n",
       "    </tr>\n",
       "  </thead>\n",
       "  <tbody>\n",
       "    <tr>\n",
       "      <th>298</th>\n",
       "      <td>298</td>\n",
       "      <td>1</td>\n",
       "      <td>2014-01-01 00:00:00</td>\n",
       "      <td>127.64</td>\n",
       "      <td>1986-08-18</td>\n",
       "      <td>5</td>\n",
       "    </tr>\n",
       "    <tr>\n",
       "      <th>2</th>\n",
       "      <td>2</td>\n",
       "      <td>1</td>\n",
       "      <td>2014-01-01 00:01:05</td>\n",
       "      <td>109.48</td>\n",
       "      <td>1986-08-18</td>\n",
       "      <td>2</td>\n",
       "    </tr>\n",
       "    <tr>\n",
       "      <th>308</th>\n",
       "      <td>308</td>\n",
       "      <td>1</td>\n",
       "      <td>2014-01-01 00:02:10</td>\n",
       "      <td>95.06</td>\n",
       "      <td>1986-08-18</td>\n",
       "      <td>3</td>\n",
       "    </tr>\n",
       "    <tr>\n",
       "      <th>116</th>\n",
       "      <td>116</td>\n",
       "      <td>1</td>\n",
       "      <td>2014-01-01 00:03:15</td>\n",
       "      <td>78.92</td>\n",
       "      <td>1986-08-18</td>\n",
       "      <td>4</td>\n",
       "    </tr>\n",
       "    <tr>\n",
       "      <th>371</th>\n",
       "      <td>371</td>\n",
       "      <td>1</td>\n",
       "      <td>2014-01-01 00:04:20</td>\n",
       "      <td>31.54</td>\n",
       "      <td>1986-08-18</td>\n",
       "      <td>3</td>\n",
       "    </tr>\n",
       "  </tbody>\n",
       "</table>\n",
       "</div>"
      ],
      "text/plain": [
       "     transaction_id  session_id    transaction_time  amount date_of_birth  \\\n",
       "298             298           1 2014-01-01 00:00:00  127.64    1986-08-18   \n",
       "2                 2           1 2014-01-01 00:01:05  109.48    1986-08-18   \n",
       "308             308           1 2014-01-01 00:02:10   95.06    1986-08-18   \n",
       "116             116           1 2014-01-01 00:03:15   78.92    1986-08-18   \n",
       "371             371           1 2014-01-01 00:04:20   31.54    1986-08-18   \n",
       "\n",
       "    product_id  \n",
       "298          5  \n",
       "2            2  \n",
       "308          3  \n",
       "116          4  \n",
       "371          3  "
      ]
     },
     "execution_count": 20,
     "metadata": {},
     "output_type": "execute_result"
    }
   ],
   "source": [
    "es[\"transactions\"].df.head(5)"
   ]
  },
  {
   "cell_type": "code",
   "execution_count": 21,
   "metadata": {},
   "outputs": [],
   "source": [
    "es = es.normalize_entity(base_entity_id=\"sessions\",\n",
    "                          new_entity_id=\"customers\",\n",
    "                          index=\"customer_id\",\n",
    "                          make_time_index=\"join_date\",\n",
    "                          additional_variables=[\"zip_code\", \"join_date\"])"
   ]
  },
  {
   "cell_type": "code",
   "execution_count": 22,
   "metadata": {},
   "outputs": [
    {
     "data": {
      "text/plain": [
       "Entityset: None\n",
       "  Entities:\n",
       "    transactions [Rows: 500, Columns: 6]\n",
       "    products [Rows: 5, Columns: 2]\n",
       "    sessions [Rows: 35, Columns: 4]\n",
       "    customers [Rows: 5, Columns: 3]\n",
       "  Relationships:\n",
       "    transactions.product_id -> products.product_id\n",
       "    transactions.session_id -> sessions.session_id\n",
       "    sessions.customer_id -> customers.customer_id"
      ]
     },
     "execution_count": 22,
     "metadata": {},
     "output_type": "execute_result"
    }
   ],
   "source": [
    "es"
   ]
  },
  {
   "cell_type": "code",
   "execution_count": 23,
   "metadata": {},
   "outputs": [],
   "source": [
    "feature_matrix, feature_defs = ft.dfs(entityset=es,\n",
    "                                    target_entity=\"products\")"
   ]
  },
  {
   "cell_type": "code",
   "execution_count": 24,
   "metadata": {},
   "outputs": [
    {
     "data": {
      "text/plain": [
       "[<Feature: brand>,\n",
       " <Feature: SUM(transactions.amount)>,\n",
       " <Feature: STD(transactions.amount)>,\n",
       " <Feature: MAX(transactions.amount)>,\n",
       " <Feature: SKEW(transactions.amount)>,\n",
       " <Feature: MIN(transactions.amount)>,\n",
       " <Feature: MEAN(transactions.amount)>,\n",
       " <Feature: COUNT(transactions)>,\n",
       " <Feature: NUM_UNIQUE(transactions.session_id)>,\n",
       " <Feature: MODE(transactions.session_id)>,\n",
       " <Feature: NUM_UNIQUE(transactions.DAY(transaction_time))>,\n",
       " <Feature: NUM_UNIQUE(transactions.DAY(date_of_birth))>,\n",
       " <Feature: NUM_UNIQUE(transactions.YEAR(transaction_time))>,\n",
       " <Feature: NUM_UNIQUE(transactions.YEAR(date_of_birth))>,\n",
       " <Feature: NUM_UNIQUE(transactions.MONTH(transaction_time))>,\n",
       " <Feature: NUM_UNIQUE(transactions.MONTH(date_of_birth))>,\n",
       " <Feature: NUM_UNIQUE(transactions.WEEKDAY(transaction_time))>,\n",
       " <Feature: NUM_UNIQUE(transactions.WEEKDAY(date_of_birth))>,\n",
       " <Feature: NUM_UNIQUE(transactions.sessions.device)>,\n",
       " <Feature: NUM_UNIQUE(transactions.sessions.customer_id)>,\n",
       " <Feature: MODE(transactions.DAY(transaction_time))>,\n",
       " <Feature: MODE(transactions.DAY(date_of_birth))>,\n",
       " <Feature: MODE(transactions.YEAR(transaction_time))>,\n",
       " <Feature: MODE(transactions.YEAR(date_of_birth))>,\n",
       " <Feature: MODE(transactions.MONTH(transaction_time))>,\n",
       " <Feature: MODE(transactions.MONTH(date_of_birth))>,\n",
       " <Feature: MODE(transactions.WEEKDAY(transaction_time))>,\n",
       " <Feature: MODE(transactions.WEEKDAY(date_of_birth))>,\n",
       " <Feature: MODE(transactions.sessions.device)>,\n",
       " <Feature: MODE(transactions.sessions.customer_id)>]"
      ]
     },
     "execution_count": 24,
     "metadata": {},
     "output_type": "execute_result"
    }
   ],
   "source": [
    "feature_defs"
   ]
  },
  {
   "cell_type": "code",
   "execution_count": null,
   "metadata": {},
   "outputs": [],
   "source": []
  }
 ],
 "metadata": {
  "kernelspec": {
   "display_name": "Python 3",
   "language": "python",
   "name": "python3"
  },
  "language_info": {
   "codemirror_mode": {
    "name": "ipython",
    "version": 3
   },
   "file_extension": ".py",
   "mimetype": "text/x-python",
   "name": "python",
   "nbconvert_exporter": "python",
   "pygments_lexer": "ipython3",
   "version": "3.6.8"
  }
 },
 "nbformat": 4,
 "nbformat_minor": 2
}
